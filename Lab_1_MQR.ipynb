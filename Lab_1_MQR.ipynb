{
 "cells": [
  {
   "cell_type": "markdown",
   "metadata": {
    "id": "rHLcriKWLRe4"
   },
   "source": [
    "# Lab 1"
   ]
  },
  {
   "cell_type": "code",
   "execution_count": 2,
   "metadata": {
    "id": "7X58hOMTUH-w"
   },
   "outputs": [],
   "source": [
    "# Import the libraries we'll use below.\n",
    "import numpy as np\n",
    "import matplotlib.pyplot as plt"
   ]
  },
  {
   "cell_type": "markdown",
   "metadata": {
    "id": "0nNOD-Z7SzAq"
   },
   "source": [
    "## Data as matrices\n",
    "Data usually comes in the form of matrices. The Python Numpy library makes it easy to manipulate matrices efficiently. See the [Numpy Tutorial](https://docs.scipy.org/doc/numpy/user/quickstart.html) for details."
   ]
  },
  {
   "cell_type": "code",
   "execution_count": 5,
   "metadata": {
    "id": "KWlmuAMwTZ3P"
   },
   "outputs": [
    {
     "name": "stdout",
     "output_type": "stream",
     "text": [
      "[1 2 3]\n",
      "[[ 1  2  3  4]\n",
      " [ 5  6  7  8]\n",
      " [ 9 10 11 12]]\n",
      "[[1. 1. 1.]\n",
      " [1. 1. 1.]]\n",
      "[[1. 0. 0.]\n",
      " [0. 1. 0.]\n",
      " [0. 0. 1.]]\n"
     ]
    }
   ],
   "source": [
    "# Print these to make sure you understand what is being generated.\n",
    "A = np.array([1, 2, 3])\n",
    "B = np.arange(1, 13).reshape(3, 4)\n",
    "C = np.ones((2, 3))\n",
    "D = np.eye(3)\n",
    "\n",
    "print(A)\n",
    "print(B)\n",
    "print(C)\n",
    "print(D)"
   ]
  },
  {
   "cell_type": "markdown",
   "metadata": {
    "id": "T4wvvzKoUIAN"
   },
   "source": [
    "---\n",
    "### Exercise 1: Matrix manipulation (8 points)"
   ]
  },
  {
   "cell_type": "markdown",
   "metadata": {},
   "source": [
    "Perform the following computations using numpy functions and print the results. Note that the `*` operator implies matrix multiplication -- make sure the dimensions align!\n",
    "1. 2A + 1\n",
    "2. Sum the rows of B\n",
    "3. Sum the columns of B\n",
    "4. Number of elements of B greater than 5\n",
    "5. C + C\n",
    "6. A * B\n",
    "7. (B * B) - D"
   ]
  },
  {
   "cell_type": "code",
   "execution_count": 51,
   "metadata": {
    "id": "HJtwrjdO6TbS"
   },
   "outputs": [
    {
     "name": "stdout",
     "output_type": "stream",
     "text": [
      "1. 2A + 1 = \n",
      "[3 5 7]\n",
      "\n",
      "2. Sum of the rows of B\n",
      "[10 26 42]\n",
      "\n",
      "3. Sum of the columns of B\n",
      "[15 18 21 24]\n",
      "\n",
      "4. Number of elements of B greater than 5\n",
      "7\n",
      "\n",
      "5. C + C = \n",
      "[[2. 2. 2.]\n",
      " [2. 2. 2.]]\n",
      "\n",
      "6. A * B = \n",
      "[38 44 50 56]\n",
      "\n",
      "7. (B*B) - D\n",
      "[[[  0.   3.   8.  15.]\n",
      "  [ 25.  36.  49.  64.]\n",
      "  [ 81. 100. 121. 144.]]\n",
      "\n",
      " [[  1.   4.   9.  16.]\n",
      "  [ 24.  35.  48.  63.]\n",
      "  [ 81. 100. 121. 144.]]\n",
      "\n",
      " [[  1.   4.   9.  16.]\n",
      "  [ 25.  36.  49.  64.]\n",
      "  [ 80.  99. 120. 143.]]]\n"
     ]
    }
   ],
   "source": [
    "print(\"1. 2A + 1 = \")\n",
    "print(2*A +1)\n",
    "print(\"\")\n",
    "print(\"2. Sum of the rows of B\")\n",
    "print(B.sum(axis=1))\n",
    "print(\"\")\n",
    "print(\"3. Sum of the columns of B\")\n",
    "print(B.sum(axis=0))\n",
    "print(\"\")\n",
    "print(\"4. Number of elements of B greater than 5\")\n",
    "n = len(B[B > 5])\n",
    "print(n)\n",
    "print(\"\")\n",
    "print(\"5. C + C = \")\n",
    "print(C+C)\n",
    "print(\"\")\n",
    "print(\"6. A * B = \")\n",
    "print(A.dot(B))\n",
    "print(\"\")\n",
    "print(\"7. (B*B) - D\")\n",
    "z = B * B\n",
    "d = np.expand_dims(D, axis=-1)\n",
    "print(np.subtract(z, d))"
   ]
  },
  {
   "cell_type": "markdown",
   "metadata": {},
   "source": [
    "---"
   ]
  },
  {
   "cell_type": "markdown",
   "metadata": {
    "id": "xbCRG2-uUKCT"
   },
   "source": [
    "## Data for Supervised Learning\n",
    "Supervised learning is all about learning to make predictions: given an input $x$ (e.g. home square footage), can we produce an output $\\hat{y}$ (e.g. estimated value) as close to the actual observed output $y$ (e.g. sale price) as possible. Note that the \"hat\" above $y$ is used to denote an estimated or predicted value.\n",
    "\n",
    "Let's start by generating some artificial data. We'll create a vector of inputs, $X$, and a corresponding vector of target outputs $Y$. In general, we'll refer to invidual examples with a lowercase ($x$), and a vector or matrix containing multiple examples with a capital ($X$)."
   ]
  },
  {
   "cell_type": "code",
   "execution_count": 52,
   "metadata": {
    "id": "Ulmn_bFdU87t"
   },
   "outputs": [],
   "source": [
    "def create_1d_data(num_examples=10, w=2, b=1, random_scale=1):\n",
    "  \"\"\"Create X, Y data with a linear relationship with added noise.\n",
    "\n",
    "  Args:\n",
    "    num_examples: number of examples to generate\n",
    "    w: desired slope\n",
    "    b: desired intercept\n",
    "    random_scale: add uniform noise between -random_scale and +random_scale\n",
    "\n",
    "  Returns:\n",
    "    X and Y with shape (num_examples)\n",
    "  \"\"\"\n",
    "  X = np.arange(num_examples)\n",
    "  np.random.seed(4)  # consistent random number generation\n",
    "  deltas = np.random.uniform(low=-random_scale, high=random_scale, size=X.shape)\n",
    "  Y = b + deltas + w * X\n",
    "  return X, Y"
   ]
  },
  {
   "cell_type": "code",
   "execution_count": 53,
   "metadata": {
    "id": "6qJg0IiYVJ8U"
   },
   "outputs": [
    {
     "data": {
      "image/png": "[encoded data removed]",
      "text/plain": [
       "<Figure size 432x288 with 1 Axes>"
      ]
     },
     "metadata": {
      "needs_background": "light"
     },
     "output_type": "display_data"
    }
   ],
   "source": [
    "# Create some artificial data using create_1d_data.\n",
    "X, Y = create_1d_data()\n",
    "plt.scatter(X, Y)\n",
    "plt.show()"
   ]
  },
  {
   "cell_type": "markdown",
   "metadata": {
    "id": "W6coKbXSpXOz"
   },
   "source": [
    "---\n",
    "### Exercise 2: Models for Data (8 points)"
   ]
  },
  {
   "cell_type": "markdown",
   "metadata": {},
   "source": [
    "A model is a function that takes an input $x$ and produces a prediction $\\hat{y}$.\n",
    "\n",
    "Let's consider two possible models for this data:\n",
    "1. $M_1(x) = x+5$ \n",
    "2. $M_2(x) = 2x+1$\n",
    "\n",
    "Compute the predictions of models $M_1$ and $M_2$ for the values in $X$. These predictions should be vectors of the same shape as $Y$. Then plot the prediction lines of these two models overlayed on the \"observed\" data $(X, Y)$. Use [plt.plot()](https://matplotlib.org/api/_as_gen/matplotlib.pyplot.plot.html) to draw the lines."
   ]
  },
  {
   "cell_type": "code",
   "execution_count": 65,
   "metadata": {
    "id": "AHIY5kNXUIAP"
   },
   "outputs": [
    {
     "name": "stdout",
     "output_type": "stream",
     "text": [
      "[0 1 2 3 4 5 6 7 8 9]\n",
      "[ 1.93405968  3.0944645   5.94536872  7.42963199  9.39545765 10.43217899\n",
      " 13.95254891 14.01246051 16.50596472 18.86958306]\n",
      "\n",
      "[[1. 0.]\n",
      " [1. 1.]\n",
      " [1. 2.]\n",
      " [1. 3.]\n",
      " [1. 4.]\n",
      " [1. 5.]\n",
      " [1. 6.]\n",
      " [1. 7.]\n",
      " [1. 8.]\n",
      " [1. 9.]]\n",
      "\n"
     ]
    },
    {
     "data": {
      "image/png": "[encoded data removed]",
      "text/plain": [
       "<Figure size 432x288 with 1 Axes>"
      ]
     },
     "metadata": {
      "needs_background": "light"
     },
     "output_type": "display_data"
    }
   ],
   "source": [
    "X = np.array(X)\n",
    "Y = np.array(Y)\n",
    "\n",
    "print(X)\n",
    "print(Y)\n",
    "print(\"\")\n",
    "\n",
    "X_with_1s = np.c_[np.ones(X.shape[0]), X]\n",
    "print(X_with_1s)\n",
    "\n",
    "#MODELS FOR DATA\n",
    "M1 = np.array([5, 1])\n",
    "M2 = np.array([1, 2])\n",
    "print(\"\")\n",
    "\n",
    "#PREDICTIONS\n",
    "y1 = (M1 * X_with_1s).sum(axis=1)\n",
    "y2 = (M2 * X_with_1s).sum(axis=1)\n",
    "\n",
    "#Plotting the Predictions relative to the data\n",
    "plt.plot(X, y1)\n",
    "plt.plot(X, y2)\n",
    "plt.scatter(X, Y)\n",
    "plt.legend(['x+5', '2x+1', 'data'])\n",
    "plt.show()"
   ]
  },
  {
   "cell_type": "markdown",
   "metadata": {},
   "source": [
    "---"
   ]
  },
  {
   "cell_type": "markdown",
   "metadata": {
    "id": "NH-0soZiWx9x"
   },
   "source": [
    "## Evaluation Metrics\n",
    "\n",
    "How good are our models? Intuitively, the better the model, the more closely it fits the data we have. That is, for each $x$, we'll compare $y$, the true value, with $\\hat{y}$, the predicted value. This comparison is often called the *loss* or the *error*. One common such comparison is *squared error*: $(y-\\hat{y})^2$. Averaging over all our data points, we get the *mean squared error*:\n",
    "\n",
    "\\begin{equation}\n",
    "\\textit{MSE} = \\frac{1}{|Y|} \\sum_{y_i \\in Y}(y_i - \\hat{y}_i)^2\n",
    "\\end{equation}"
   ]
  },
  {
   "cell_type": "markdown",
   "metadata": {
    "id": "_AyY2DpxYLI0"
   },
   "source": [
    "---\n",
    "### Exercise 3: Computing MSE (8 points)"
   ]
  },
  {
   "cell_type": "markdown",
   "metadata": {},
   "source": [
    "Write a function for computing the MSE metric and use it to compute the MSE for the two models above, $M_1$ and $M_2$."
   ]
  },
  {
   "cell_type": "code",
   "execution_count": 106,
   "metadata": {
    "id": "uCeAfI5mW9sg"
   },
   "outputs": [],
   "source": [
    "def MSE(true_values, predicted_values):\n",
    "  \"\"\"Return the MSE between true_values and predicted values.\"\"\"\n",
    "  return np.square(np.subtract(true_values, predicted_values).sum())/np.abs(true_values.size)"
   ]
  },
  {
   "cell_type": "code",
   "execution_count": 109,
   "metadata": {
    "id": "uF-x9DI2ZOKq"
   },
   "outputs": [
    {
     "name": "stdout",
     "output_type": "stream",
     "text": [
      "MSE for M1: 2049.0043689897593\n",
      "MSE for M2: 2997.8649937923597\n"
     ]
    }
   ],
   "source": [
    "m1 = np.expand_dims(m1, axis=-1)\n",
    "m2 = np.expand_dims(m2, axis=-1)\n",
    "\n",
    "print('MSE for M1:', MSE(Y, m1))\n",
    "print('MSE for M2:', MSE(Y, m2))"
   ]
  },
  {
   "cell_type": "markdown",
   "metadata": {},
   "source": [
    "---"
   ]
  },
  {
   "cell_type": "markdown",
   "metadata": {
    "id": "eDiy3OZwZlwj"
   },
   "source": [
    "## Generalization\n",
    "\n",
    "Our data $(X, Y)$ represents just a sample of all possible input-output pairs we might care about. A model will be useful to the extent we can apply it to new inputs. Consider the more complex model below, which appears to produce a much smaller mean squared error."
   ]
  },
  {
   "cell_type": "code",
   "execution_count": 95,
   "metadata": {
    "id": "ns1siZ9DZvSY"
   },
   "outputs": [
    {
     "name": "stdout",
     "output_type": "stream",
     "text": [
      "MSE for M3: 0.1094195692552103\n"
     ]
    },
    {
     "data": {
      "image/png": "[encoded data removed]",
      "text/plain": [
       "<Figure size 432x288 with 1 Axes>"
      ]
     },
     "metadata": {
      "needs_background": "light"
     },
     "output_type": "display_data"
    }
   ],
   "source": [
    "# Fit an 8-th degree polynomial to (X, Y). See np.polyfit for details.\n",
    "polynomial_model_coefficients = np.polyfit(X, Y, deg=8)\n",
    "polynomial_model = np.poly1d(polynomial_model_coefficients)\n",
    "M3 = polynomial_model(X)\n",
    "fig = plt.scatter(X, Y)\n",
    "plt.plot(X, M3, '-k')\n",
    "print ('MSE for M3:', MSE(Y, M3))"
   ]
  },
  {
   "cell_type": "markdown",
   "metadata": {
    "id": "M2m9YmLMZ1EV"
   },
   "source": [
    "---\n",
    "### Exercise 4: Generalization (8 points)"
   ]
  },
  {
   "cell_type": "markdown",
   "metadata": {},
   "source": [
    "Explain whether you expect $M_3$ to be better than $M_2$ at predicting the labels for new unseen inputs."
   ]
  },
  {
   "cell_type": "markdown",
   "metadata": {
    "id": "h0Zpx79_aQEC"
   },
   "source": [
    "I would expect M3 to be better because it has a lower mean squared error than M2 and better captures the variation of the the actual values. Therefore, M3 would be expected to have more accuracy or precision in predicting the labels for new unseen inputs."
   ]
  },
  {
   "cell_type": "markdown",
   "metadata": {
    "id": "j9EH9D7Faf9n"
   },
   "source": [
    "---"
   ]
  },
  {
   "cell_type": "markdown",
   "metadata": {
    "id": "6hIdZHngdrET"
   },
   "source": [
    "## Review\n",
    "\n",
    "* In **Supervised Machine Learning**, we must start with data in the form $(X,Y)$ where $X$ are the inputs and $Y$ are the output labels.\n",
    "* A **model** is a function that maps an input $x$ to an output $y$. The model's output is referred to as a **prediction**, denoted by $\\hat{y}$.\n",
    "* We **evaluate** predictions by comparing them to the true labels. This measurement is called a **loss** or **error**. For real-valued data, **mean squared error** is a common metric.\n",
    "* A model is only as good as its ability to **generalize** to new examples."
   ]
  }
 ],
 "metadata": {
  "accelerator": "GPU",
  "colab": {
   "collapsed_sections": [
    "copyright",
    "xxOhpvdW6TbX",
    "exercise-1-key-1",
    "43ZTSJEc526U",
    "exercise-5-key-1",
    "ubHispCAA_5u",
    "exercise-6-key-1",
    "5p1IvWjfEjqm",
    "exercise-9-key-1"
   ],
   "name": "01 Introduction.ipynb",
   "private_outputs": true,
   "provenance": []
  },
  "kernelspec": {
   "display_name": "Python 3",
   "language": "python",
   "name": "python3"
  },
  "language_info": {
   "codemirror_mode": {
    "name": "ipython",
    "version": 3
   },
   "file_extension": ".py",
   "mimetype": "text/x-python",
   "name": "python",
   "nbconvert_exporter": "python",
   "pygments_lexer": "ipython3",
   "version": "3.8.8"
  }
 },
 "nbformat": 4,
 "nbformat_minor": 4
}
